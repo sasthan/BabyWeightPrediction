{
 "cells": [
  {
   "cell_type": "code",
   "execution_count": 796,
   "metadata": {},
   "outputs": [],
   "source": [
    "import pandas as pd\n",
    "import numpy as np\n",
    "import matplotlib.pyplot as plt\n",
    "from sklearn.preprocessing import StandardScaler\n",
    "from sklearn.linear_model import LinearRegression"
   ]
  },
  {
   "cell_type": "markdown",
   "metadata": {},
   "source": [
    "### Step 1: Prepare the Workspace"
   ]
  },
  {
   "cell_type": "code",
   "execution_count": 797,
   "metadata": {},
   "outputs": [
    {
     "data": {
      "text/html": [
       "<div>\n",
       "<style scoped>\n",
       "    .dataframe tbody tr th:only-of-type {\n",
       "        vertical-align: middle;\n",
       "    }\n",
       "\n",
       "    .dataframe tbody tr th {\n",
       "        vertical-align: top;\n",
       "    }\n",
       "\n",
       "    .dataframe thead th {\n",
       "        text-align: right;\n",
       "    }\n",
       "</style>\n",
       "<table border=\"1\" class=\"dataframe\">\n",
       "  <thead>\n",
       "    <tr style=\"text-align: right;\">\n",
       "      <th></th>\n",
       "      <th>ID</th>\n",
       "      <th>SEX</th>\n",
       "      <th>MARITAL</th>\n",
       "      <th>FAGE</th>\n",
       "      <th>GAINED</th>\n",
       "      <th>VISITS</th>\n",
       "      <th>MAGE</th>\n",
       "      <th>FEDUC</th>\n",
       "      <th>MEDUC</th>\n",
       "      <th>TOTALP</th>\n",
       "      <th>...</th>\n",
       "      <th>HYPERCH</th>\n",
       "      <th>HYPERPR</th>\n",
       "      <th>ECLAMP</th>\n",
       "      <th>CERVIX</th>\n",
       "      <th>PINFANT</th>\n",
       "      <th>PRETERM</th>\n",
       "      <th>RENAL</th>\n",
       "      <th>RHSEN</th>\n",
       "      <th>UTERINE</th>\n",
       "      <th>BWEIGHT</th>\n",
       "    </tr>\n",
       "  </thead>\n",
       "  <tbody>\n",
       "    <tr>\n",
       "      <th>count</th>\n",
       "      <td>101400.000000</td>\n",
       "      <td>101400.000000</td>\n",
       "      <td>101400.000000</td>\n",
       "      <td>101400.000000</td>\n",
       "      <td>101400.000000</td>\n",
       "      <td>101400.000000</td>\n",
       "      <td>101400.000000</td>\n",
       "      <td>101400.000000</td>\n",
       "      <td>101400.000000</td>\n",
       "      <td>101400.000000</td>\n",
       "      <td>...</td>\n",
       "      <td>101400.000000</td>\n",
       "      <td>101400.000000</td>\n",
       "      <td>101400.000000</td>\n",
       "      <td>101400.000000</td>\n",
       "      <td>101400.000000</td>\n",
       "      <td>101400.000000</td>\n",
       "      <td>101400.000000</td>\n",
       "      <td>101400.000000</td>\n",
       "      <td>101400.000000</td>\n",
       "      <td>101400.000000</td>\n",
       "    </tr>\n",
       "    <tr>\n",
       "      <th>mean</th>\n",
       "      <td>52700.500000</td>\n",
       "      <td>1.485671</td>\n",
       "      <td>1.303817</td>\n",
       "      <td>30.174477</td>\n",
       "      <td>30.283037</td>\n",
       "      <td>12.436943</td>\n",
       "      <td>27.736312</td>\n",
       "      <td>12.926893</td>\n",
       "      <td>13.256489</td>\n",
       "      <td>2.378462</td>\n",
       "      <td>...</td>\n",
       "      <td>0.013767</td>\n",
       "      <td>0.050039</td>\n",
       "      <td>0.003807</td>\n",
       "      <td>0.003738</td>\n",
       "      <td>0.005680</td>\n",
       "      <td>0.008856</td>\n",
       "      <td>0.002189</td>\n",
       "      <td>0.003777</td>\n",
       "      <td>0.003442</td>\n",
       "      <td>7.258066</td>\n",
       "    </tr>\n",
       "    <tr>\n",
       "      <th>std</th>\n",
       "      <td>29271.802985</td>\n",
       "      <td>0.500349</td>\n",
       "      <td>0.459907</td>\n",
       "      <td>6.775576</td>\n",
       "      <td>13.615401</td>\n",
       "      <td>3.728901</td>\n",
       "      <td>5.957369</td>\n",
       "      <td>2.926569</td>\n",
       "      <td>2.932693</td>\n",
       "      <td>1.490272</td>\n",
       "      <td>...</td>\n",
       "      <td>0.116524</td>\n",
       "      <td>0.218027</td>\n",
       "      <td>0.061581</td>\n",
       "      <td>0.061022</td>\n",
       "      <td>0.075155</td>\n",
       "      <td>0.093689</td>\n",
       "      <td>0.046739</td>\n",
       "      <td>0.061342</td>\n",
       "      <td>0.058566</td>\n",
       "      <td>1.329461</td>\n",
       "    </tr>\n",
       "    <tr>\n",
       "      <th>min</th>\n",
       "      <td>2001.000000</td>\n",
       "      <td>1.000000</td>\n",
       "      <td>1.000000</td>\n",
       "      <td>14.000000</td>\n",
       "      <td>0.000000</td>\n",
       "      <td>0.000000</td>\n",
       "      <td>11.000000</td>\n",
       "      <td>0.000000</td>\n",
       "      <td>0.000000</td>\n",
       "      <td>1.000000</td>\n",
       "      <td>...</td>\n",
       "      <td>0.000000</td>\n",
       "      <td>0.000000</td>\n",
       "      <td>0.000000</td>\n",
       "      <td>0.000000</td>\n",
       "      <td>0.000000</td>\n",
       "      <td>0.000000</td>\n",
       "      <td>0.000000</td>\n",
       "      <td>0.000000</td>\n",
       "      <td>0.000000</td>\n",
       "      <td>0.187500</td>\n",
       "    </tr>\n",
       "    <tr>\n",
       "      <th>25%</th>\n",
       "      <td>27350.750000</td>\n",
       "      <td>1.000000</td>\n",
       "      <td>1.000000</td>\n",
       "      <td>25.000000</td>\n",
       "      <td>21.000000</td>\n",
       "      <td>10.000000</td>\n",
       "      <td>23.000000</td>\n",
       "      <td>12.000000</td>\n",
       "      <td>12.000000</td>\n",
       "      <td>1.000000</td>\n",
       "      <td>...</td>\n",
       "      <td>0.000000</td>\n",
       "      <td>0.000000</td>\n",
       "      <td>0.000000</td>\n",
       "      <td>0.000000</td>\n",
       "      <td>0.000000</td>\n",
       "      <td>0.000000</td>\n",
       "      <td>0.000000</td>\n",
       "      <td>0.000000</td>\n",
       "      <td>0.000000</td>\n",
       "      <td>6.625000</td>\n",
       "    </tr>\n",
       "    <tr>\n",
       "      <th>50%</th>\n",
       "      <td>52700.500000</td>\n",
       "      <td>1.000000</td>\n",
       "      <td>1.000000</td>\n",
       "      <td>30.000000</td>\n",
       "      <td>30.000000</td>\n",
       "      <td>12.000000</td>\n",
       "      <td>28.000000</td>\n",
       "      <td>12.000000</td>\n",
       "      <td>13.000000</td>\n",
       "      <td>2.000000</td>\n",
       "      <td>...</td>\n",
       "      <td>0.000000</td>\n",
       "      <td>0.000000</td>\n",
       "      <td>0.000000</td>\n",
       "      <td>0.000000</td>\n",
       "      <td>0.000000</td>\n",
       "      <td>0.000000</td>\n",
       "      <td>0.000000</td>\n",
       "      <td>0.000000</td>\n",
       "      <td>0.000000</td>\n",
       "      <td>7.375000</td>\n",
       "    </tr>\n",
       "    <tr>\n",
       "      <th>75%</th>\n",
       "      <td>78050.250000</td>\n",
       "      <td>2.000000</td>\n",
       "      <td>2.000000</td>\n",
       "      <td>35.000000</td>\n",
       "      <td>39.000000</td>\n",
       "      <td>15.000000</td>\n",
       "      <td>32.000000</td>\n",
       "      <td>16.000000</td>\n",
       "      <td>16.000000</td>\n",
       "      <td>3.000000</td>\n",
       "      <td>...</td>\n",
       "      <td>0.000000</td>\n",
       "      <td>0.000000</td>\n",
       "      <td>0.000000</td>\n",
       "      <td>0.000000</td>\n",
       "      <td>0.000000</td>\n",
       "      <td>0.000000</td>\n",
       "      <td>0.000000</td>\n",
       "      <td>0.000000</td>\n",
       "      <td>0.000000</td>\n",
       "      <td>8.062500</td>\n",
       "    </tr>\n",
       "    <tr>\n",
       "      <th>max</th>\n",
       "      <td>103400.000000</td>\n",
       "      <td>9.000000</td>\n",
       "      <td>2.000000</td>\n",
       "      <td>74.000000</td>\n",
       "      <td>98.000000</td>\n",
       "      <td>49.000000</td>\n",
       "      <td>53.000000</td>\n",
       "      <td>17.000000</td>\n",
       "      <td>17.000000</td>\n",
       "      <td>20.000000</td>\n",
       "      <td>...</td>\n",
       "      <td>1.000000</td>\n",
       "      <td>1.000000</td>\n",
       "      <td>1.000000</td>\n",
       "      <td>1.000000</td>\n",
       "      <td>1.000000</td>\n",
       "      <td>1.000000</td>\n",
       "      <td>1.000000</td>\n",
       "      <td>1.000000</td>\n",
       "      <td>1.000000</td>\n",
       "      <td>13.062500</td>\n",
       "    </tr>\n",
       "  </tbody>\n",
       "</table>\n",
       "<p>8 rows × 35 columns</p>\n",
       "</div>"
      ],
      "text/plain": [
       "                  ID            SEX        MARITAL           FAGE  \\\n",
       "count  101400.000000  101400.000000  101400.000000  101400.000000   \n",
       "mean    52700.500000       1.485671       1.303817      30.174477   \n",
       "std     29271.802985       0.500349       0.459907       6.775576   \n",
       "min      2001.000000       1.000000       1.000000      14.000000   \n",
       "25%     27350.750000       1.000000       1.000000      25.000000   \n",
       "50%     52700.500000       1.000000       1.000000      30.000000   \n",
       "75%     78050.250000       2.000000       2.000000      35.000000   \n",
       "max    103400.000000       9.000000       2.000000      74.000000   \n",
       "\n",
       "              GAINED         VISITS           MAGE          FEDUC  \\\n",
       "count  101400.000000  101400.000000  101400.000000  101400.000000   \n",
       "mean       30.283037      12.436943      27.736312      12.926893   \n",
       "std        13.615401       3.728901       5.957369       2.926569   \n",
       "min         0.000000       0.000000      11.000000       0.000000   \n",
       "25%        21.000000      10.000000      23.000000      12.000000   \n",
       "50%        30.000000      12.000000      28.000000      12.000000   \n",
       "75%        39.000000      15.000000      32.000000      16.000000   \n",
       "max        98.000000      49.000000      53.000000      17.000000   \n",
       "\n",
       "               MEDUC         TOTALP  ...        HYPERCH        HYPERPR  \\\n",
       "count  101400.000000  101400.000000  ...  101400.000000  101400.000000   \n",
       "mean       13.256489       2.378462  ...       0.013767       0.050039   \n",
       "std         2.932693       1.490272  ...       0.116524       0.218027   \n",
       "min         0.000000       1.000000  ...       0.000000       0.000000   \n",
       "25%        12.000000       1.000000  ...       0.000000       0.000000   \n",
       "50%        13.000000       2.000000  ...       0.000000       0.000000   \n",
       "75%        16.000000       3.000000  ...       0.000000       0.000000   \n",
       "max        17.000000      20.000000  ...       1.000000       1.000000   \n",
       "\n",
       "              ECLAMP         CERVIX        PINFANT        PRETERM  \\\n",
       "count  101400.000000  101400.000000  101400.000000  101400.000000   \n",
       "mean        0.003807       0.003738       0.005680       0.008856   \n",
       "std         0.061581       0.061022       0.075155       0.093689   \n",
       "min         0.000000       0.000000       0.000000       0.000000   \n",
       "25%         0.000000       0.000000       0.000000       0.000000   \n",
       "50%         0.000000       0.000000       0.000000       0.000000   \n",
       "75%         0.000000       0.000000       0.000000       0.000000   \n",
       "max         1.000000       1.000000       1.000000       1.000000   \n",
       "\n",
       "               RENAL          RHSEN        UTERINE        BWEIGHT  \n",
       "count  101400.000000  101400.000000  101400.000000  101400.000000  \n",
       "mean        0.002189       0.003777       0.003442       7.258066  \n",
       "std         0.046739       0.061342       0.058566       1.329461  \n",
       "min         0.000000       0.000000       0.000000       0.187500  \n",
       "25%         0.000000       0.000000       0.000000       6.625000  \n",
       "50%         0.000000       0.000000       0.000000       7.375000  \n",
       "75%         0.000000       0.000000       0.000000       8.062500  \n",
       "max         1.000000       1.000000       1.000000      13.062500  \n",
       "\n",
       "[8 rows x 35 columns]"
      ]
     },
     "execution_count": 797,
     "metadata": {},
     "output_type": "execute_result"
    }
   ],
   "source": [
    "Atrain1 = pd.read_csv(\"baby-weights-dataset2.csv\")\n",
    "#this gives information about babies born, together with birth weight\n",
    "Atrain1.describe()"
   ]
  },
  {
   "cell_type": "markdown",
   "metadata": {},
   "source": [
    "### Step 2: Data Exploration"
   ]
  },
  {
   "cell_type": "code",
   "execution_count": 798,
   "metadata": {},
   "outputs": [
    {
     "name": "stdout",
     "output_type": "stream",
     "text": [
      "BWEIGHT Variable\n",
      "Mean: 7.2580658284023665\n",
      "stdev  1.3294541253578183\n",
      "Min: 0.1875\n",
      "Max: 13.0625\n",
      "25% percentile:  6.625\n",
      "Median: 7.375\n",
      "75% Percentile:  8.0625\n"
     ]
    }
   ],
   "source": [
    "print(\"BWEIGHT Variable\")\n",
    "print(\"Mean:\",Atrain1['BWEIGHT'].mean())\n",
    "print(\"stdev \",np.std(Atrain1['BWEIGHT']))\n",
    "print(\"Min:\", Atrain1['BWEIGHT'].min())\n",
    "print(\"Max:\",Atrain1['BWEIGHT'].max())\n",
    "print(\"25% percentile: \",np.percentile(Atrain1['BWEIGHT'], 25))\n",
    "print(\"Median:\",np.percentile(Atrain1['BWEIGHT'], 50))\n",
    "print(\"75% Percentile: \",np.percentile(Atrain1['BWEIGHT'], 75))"
   ]
  },
  {
   "cell_type": "code",
   "execution_count": 799,
   "metadata": {},
   "outputs": [
    {
     "name": "stdout",
     "output_type": "stream",
     "text": [
      "Skewness: -0.936593\n",
      "Kurtosis: 2.868780\n"
     ]
    }
   ],
   "source": [
    "#Computing the Skewness and the Kurtosis of the Birth Weight variable\n",
    "print(\"Skewness: %f\" % Atrain1['BWEIGHT'].skew())\n",
    "print(\"Kurtosis: %f\" % Atrain1['BWEIGHT'].kurt())"
   ]
  },
  {
   "cell_type": "code",
   "execution_count": 800,
   "metadata": {},
   "outputs": [
    {
     "name": "stdout",
     "output_type": "stream",
     "text": [
      "quantitative : ['SEX', 'MARITAL', 'FAGE', 'GAINED', 'VISITS', 'MAGE', 'FEDUC', 'MEDUC', 'TOTALP', 'BDEAD', 'TERMS', 'LOUTCOME', 'WEEKS', 'RACEMOM', 'RACEDAD', 'CIGNUM', 'DRINKNUM', 'ANEMIA', 'CARDIAC', 'ACLUNG', 'DIABETES', 'HERPES', 'HYDRAM', 'HEMOGLOB', 'HYPERCH', 'HYPERPR', 'ECLAMP', 'CERVIX', 'PINFANT', 'PRETERM', 'RENAL', 'RHSEN', 'UTERINE']\n",
      "qualitative : ['HISPMOM', 'HISPDAD']\n"
     ]
    }
   ],
   "source": [
    "#Identifying the categorical values from the training dataset\n",
    "quantitative = [f for f in Atrain1.columns if Atrain1.dtypes[f] != 'object']\n",
    "quantitative.remove('BWEIGHT')\n",
    "quantitative.remove('ID')\n",
    "qualitative = [f for f in Atrain1.columns if Atrain1.dtypes[f] == 'object']\n",
    "print('quantitative :',quantitative)\n",
    "print('qualitative :',qualitative)"
   ]
  },
  {
   "cell_type": "code",
   "execution_count": 801,
   "metadata": {},
   "outputs": [
    {
     "name": "stdout",
     "output_type": "stream",
     "text": [
      "0         M\n",
      "1         N\n",
      "2         N\n",
      "3         N\n",
      "4         N\n",
      "5         N\n",
      "6         M\n",
      "7         M\n",
      "8         N\n",
      "9         N\n",
      "10        N\n",
      "11        N\n",
      "12        N\n",
      "13        S\n",
      "14        N\n",
      "15        S\n",
      "16        N\n",
      "17        N\n",
      "18        N\n",
      "19        N\n",
      "20        M\n",
      "21        N\n",
      "22        N\n",
      "23        N\n",
      "24        N\n",
      "25        N\n",
      "26        N\n",
      "27        N\n",
      "28        N\n",
      "29        N\n",
      "         ..\n",
      "101370    N\n",
      "101371    N\n",
      "101372    N\n",
      "101373    N\n",
      "101374    M\n",
      "101375    M\n",
      "101376    N\n",
      "101377    N\n",
      "101378    M\n",
      "101379    P\n",
      "101380    N\n",
      "101381    N\n",
      "101382    N\n",
      "101383    N\n",
      "101384    N\n",
      "101385    N\n",
      "101386    N\n",
      "101387    N\n",
      "101388    P\n",
      "101389    N\n",
      "101390    N\n",
      "101391    S\n",
      "101392    S\n",
      "101393    N\n",
      "101394    M\n",
      "101395    M\n",
      "101396    N\n",
      "101397    N\n",
      "101398    N\n",
      "101399    N\n",
      "Name: HISPMOM, Length: 101400, dtype: category\n",
      "Categories (7, object): [C, M, N, O, P, S, U]\n",
      "0         M\n",
      "1         N\n",
      "2         N\n",
      "3         N\n",
      "4         N\n",
      "5         N\n",
      "6         M\n",
      "7         N\n",
      "8         N\n",
      "9         N\n",
      "10        N\n",
      "11        N\n",
      "12        N\n",
      "13        S\n",
      "14        N\n",
      "15        S\n",
      "16        N\n",
      "17        N\n",
      "18        N\n",
      "19        N\n",
      "20        M\n",
      "21        N\n",
      "22        N\n",
      "23        N\n",
      "24        N\n",
      "25        N\n",
      "26        N\n",
      "27        N\n",
      "28        N\n",
      "29        N\n",
      "         ..\n",
      "101370    N\n",
      "101371    N\n",
      "101372    N\n",
      "101373    N\n",
      "101374    N\n",
      "101375    M\n",
      "101376    N\n",
      "101377    N\n",
      "101378    M\n",
      "101379    N\n",
      "101380    N\n",
      "101381    N\n",
      "101382    N\n",
      "101383    N\n",
      "101384    N\n",
      "101385    N\n",
      "101386    N\n",
      "101387    N\n",
      "101388    M\n",
      "101389    N\n",
      "101390    N\n",
      "101391    P\n",
      "101392    N\n",
      "101393    N\n",
      "101394    M\n",
      "101395    M\n",
      "101396    N\n",
      "101397    N\n",
      "101398    N\n",
      "101399    N\n",
      "Name: HISPDAD, Length: 101400, dtype: category\n",
      "Categories (7, object): [C, M, N, O, P, S, U]\n"
     ]
    }
   ],
   "source": [
    "#Replace the missing qualitative variables\n",
    "for c in qualitative:\n",
    "    Atrain1[c] = Atrain1[c].astype('category')\n",
    "    print(Atrain1[c])\n",
    "    if Atrain1[c].isnull().any():\n",
    "        Atrain1[c] = Atrain1[c].cat.add_categories(['MISSING'])\n",
    "        Atrain1[c] = Atrain1[c].fillna('MISSING')\n",
    "        print(Atrain1[c])"
   ]
  },
  {
   "cell_type": "code",
   "execution_count": 802,
   "metadata": {},
   "outputs": [
    {
     "name": "stdout",
     "output_type": "stream",
     "text": [
      "['HISPMOM_E', 'HISPDAD_E']\n"
     ]
    },
    {
     "data": {
      "text/plain": [
       "list"
      ]
     },
     "execution_count": 802,
     "metadata": {},
     "output_type": "execute_result"
    }
   ],
   "source": [
    "#Encode the qualitative variable as HISPMOM_E and HISPDAD_E\n",
    "def encode(frame, feature):\n",
    "    ordering = pd.DataFrame()\n",
    "    ordering['val'] = frame[feature].unique()\n",
    "    ordering.index = ordering.val\n",
    "    ordering['spmean'] = frame[[feature, 'BWEIGHT']].groupby(feature).mean()['BWEIGHT']\n",
    "    ordering = ordering.sort_values('spmean')\n",
    "    ordering['ordering'] = range(1, ordering.shape[0]+1)\n",
    "    ordering = ordering['ordering'].to_dict()\n",
    "    for cat, o in ordering.items():\n",
    "        frame.loc[frame[feature] == cat, feature+'_E'] = o\n",
    "qual_encoded = []\n",
    "for q in qualitative:  \n",
    "    encode(Atrain1, q)\n",
    "    qual_encoded.append(q+'_E')\n",
    "print(qual_encoded)\n",
    "type(qualitative)"
   ]
  },
  {
   "cell_type": "code",
   "execution_count": 803,
   "metadata": {},
   "outputs": [],
   "source": [
    "Feature = quantitative + qual_encoded\n",
    "Upd_Dset = Atrain1[Feature]"
   ]
  },
  {
   "cell_type": "code",
   "execution_count": 804,
   "metadata": {},
   "outputs": [
    {
     "data": {
      "image/png": "[encoded data removed]",
      "text/plain": [
       "<Figure size 432x594 with 1 Axes>"
      ]
     },
     "metadata": {
      "needs_background": "light"
     },
     "output_type": "display_data"
    }
   ],
   "source": [
    "#Spearman's rank correlation\n",
    "def spearman(frame, Feature):\n",
    "    spr = pd.DataFrame()\n",
    "    spr['feature'] = Feature\n",
    "    spr['spearman'] = [frame[f].corr(frame['BWEIGHT'], 'spearman') for f in Feature]\n",
    "    spr = spr.sort_values('spearman')\n",
    "    plt.figure(figsize=(6, 0.25*len(Feature)))\n",
    "    sns.barplot(data=spr, y='feature', x='spearman', orient='h')\n",
    "    return \n",
    "Feature = quantitative \n",
    "spearman(Atrain1, Feature)"
   ]
  },
  {
   "cell_type": "code",
   "execution_count": 805,
   "metadata": {},
   "outputs": [],
   "source": [
    "Correlated_Feature = [\"WEEKS\",\"GAINED\",\"RACEMOM\",\"RACEDAD\",\"VISITS\",\"MAGE\"]\n",
    "Upd_Dset = Upd_Dset[Correlated_Feature]"
   ]
  },
  {
   "cell_type": "markdown",
   "metadata": {},
   "source": [
    "### Step 3: Train and Test dataset"
   ]
  },
  {
   "cell_type": "code",
   "execution_count": 806,
   "metadata": {},
   "outputs": [
    {
     "name": "stdout",
     "output_type": "stream",
     "text": [
      "       BWEIGHT\n",
      "1072    8.8125\n",
      "65946   6.0000\n",
      "70393   6.7500\n",
      "2599   10.4375\n",
      "67617   7.3750\n",
      "32787   6.0000\n",
      "10894   7.4375\n",
      "95293   7.1875\n",
      "23073   8.3125\n",
      "42819   7.6250\n"
     ]
    },
    {
     "data": {
      "text/plain": [
       "(81120, 6)"
      ]
     },
     "execution_count": 806,
     "metadata": {},
     "output_type": "execute_result"
    }
   ],
   "source": [
    "#Split the dataset into 80% training and 20% testing\n",
    "from sklearn.model_selection import train_test_split\n",
    "ATrain, ATest = train_test_split(Upd_Dset, test_size=0.2, random_state=12345)\n",
    "BTrain, BTest = train_test_split(Atrain1[[\"BWEIGHT\"]], test_size=0.2, random_state=12345)\n",
    "print(BTest.head(10))\n",
    "ATrain.shape\n"
   ]
  },
  {
   "cell_type": "code",
   "execution_count": 807,
   "metadata": {},
   "outputs": [
    {
     "name": "stdout",
     "output_type": "stream",
     "text": [
      "[[ 0.10582437 -0.6065972  -0.33815318 -0.35320679  3.09653639  1.89333778]\n",
      " [ 0.90245325 -0.38646079 -0.33815318 -0.35320679 -0.65010304  0.54925152]\n",
      " [ 0.10582437 -0.09294558 -0.33815318 -0.35320679 -0.11486883  0.04521917]\n",
      " ...\n",
      " [ 1.69908213 -0.01956678 -0.33815318 -0.35320679  2.02606798 -0.29080239]\n",
      " [ 0.10582437 -0.38646079 -0.33815318 -0.35320679 -0.11486883 -0.79483474]\n",
      " [-1.48743339  0.86097886 -0.33815318 -0.35320679 -0.11486883  1.725327  ]]\n"
     ]
    },
    {
     "data": {
      "text/plain": [
       "(20280, 6)"
      ]
     },
     "execution_count": 807,
     "metadata": {},
     "output_type": "execute_result"
    }
   ],
   "source": [
    "#Applying a normalization technique to Training and Testing dataset\n",
    "stdscaler = StandardScaler()\n",
    "ATrain_X = stdscaler.fit_transform(ATrain)\n",
    "print(ATrain_X)\n",
    "\n",
    "\n",
    "stdscaler = StandardScaler()\n",
    "ATest_X = stdscaler.fit_transform(ATest)\n",
    "ATest_X.shape"
   ]
  },
  {
   "cell_type": "markdown",
   "metadata": {},
   "source": [
    "### Step 4: Model Creation using Linear Regression"
   ]
  },
  {
   "cell_type": "code",
   "execution_count": 808,
   "metadata": {},
   "outputs": [],
   "source": [
    "ATrain_X = np.c_[np.ones(ATrain_X.shape[0]), ATrain_X]"
   ]
  },
  {
   "cell_type": "code",
   "execution_count": 809,
   "metadata": {},
   "outputs": [],
   "source": [
    "np.random.seed(15) \n",
    "theta = np.random.rand(7, 1) \n",
    "m =  BTrain.size\n",
    "def linear_reg(x, y, theta):\n",
    "    prev_costs = []\n",
    "    prev_thetas = [theta]\n",
    "    for i in range(1000):\n",
    "        prediction = np.dot(x, theta)\n",
    "        error = prediction - y\n",
    "        cost = 1/(2*m) * np.dot(error.T, error)\n",
    "        prev_costs.append(cost)\n",
    "        theta = theta - (0.01 * (1/m) * np.dot(x.T, error))\n",
    "        prev_thetas.append(theta)\n",
    "    return prev_thetas, past_costs\n",
    "prev_thetas, prev_costs = linear_reg(ATrain_X, BTrain, theta)\n",
    "theta = prev_thetas[-1]"
   ]
  },
  {
   "cell_type": "markdown",
   "metadata": {},
   "source": [
    "### Step 5: Birth Weight Prediction"
   ]
  },
  {
   "cell_type": "code",
   "execution_count": 810,
   "metadata": {},
   "outputs": [
    {
     "name": "stdout",
     "output_type": "stream",
     "text": [
      "[[7.27866234]\n",
      " [7.09491933]\n",
      " [7.39553163]\n",
      " ...\n",
      " [8.74971844]\n",
      " [7.14400035]\n",
      " [7.71908532]]\n"
     ]
    },
    {
     "data": {
      "text/plain": [
       "2"
      ]
     },
     "execution_count": 810,
     "metadata": {},
     "output_type": "execute_result"
    }
   ],
   "source": [
    "ATest_X = np.c_[np.ones(ATest_X.shape[0]), ATest_X] \n",
    "Bpredict = np.dot(ATest_X, theta)\n",
    "print(Bpredict)\n",
    "BTest.ndim"
   ]
  },
  {
   "cell_type": "code",
   "execution_count": 811,
   "metadata": {},
   "outputs": [
    {
     "name": "stdout",
     "output_type": "stream",
     "text": [
      "BWEIGHT    1.070844\n",
      "dtype: float64\n"
     ]
    }
   ],
   "source": [
    "def error(actual, predicted):\n",
    "    return np.sqrt(np.sum(np.square(actual-predicted))/len(actual))\n",
    "print(error(BTest, Bpredict))"
   ]
  },
  {
   "cell_type": "code",
   "execution_count": 812,
   "metadata": {},
   "outputs": [],
   "source": [
    "Weight1 = error(BTest, Bpredict)"
   ]
  },
  {
   "cell_type": "code",
   "execution_count": 813,
   "metadata": {},
   "outputs": [
    {
     "name": "stdout",
     "output_type": "stream",
     "text": [
      "Mean Absolute Error: 0.8380528960447409\n",
      "Mean Squared Error: 1.1467069837601163\n",
      "Root Mean Squared Error: 1.0708440520263052\n"
     ]
    }
   ],
   "source": [
    "print('Mean Absolute Error:', metrics.mean_absolute_error(BTest, Bpredict))  \n",
    "print('Mean Squared Error:', metrics.mean_squared_error(BTest, Bpredict))  \n",
    "print('Root Mean Squared Error:', np.sqrt(metrics.mean_squared_error(BTest, Bpredict)))"
   ]
  },
  {
   "cell_type": "code",
   "execution_count": 814,
   "metadata": {},
   "outputs": [
    {
     "name": "stdout",
     "output_type": "stream",
     "text": [
      "BWEIGHT    1.070855\n",
      "dtype: float64\n"
     ]
    }
   ],
   "source": [
    "#Running this multiple times and calculate the Average RMSE \n",
    "np.random.seed(5)\n",
    "theta = np.random.rand(7, 1) \n",
    "m =  BTrain.size\n",
    "def linear_reg(x, y, theta):\n",
    "    prev_costs = []\n",
    "    prev_thetas = [theta]\n",
    "    for i in range(1000):\n",
    "        prediction = np.dot(x, theta)\n",
    "        error = prediction - y\n",
    "        cost = 1/(2*m) * np.dot(error.T, error)\n",
    "        prev_costs.append(cost)\n",
    "        theta = theta - (0.01 * (1/m) * np.dot(x.T, error))\n",
    "        prev_thetas.append(theta)\n",
    "    return prev_thetas, past_costs\n",
    "prev_thetas, prev_costs = linear_reg(ATrain_X, BTrain, theta)\n",
    "theta = prev_thetas[-1]\n",
    "Bpredict = np.dot(ATest_X, theta)\n",
    "Weight2 = error(BTest, Bpredict)\n",
    "print(Weight2)"
   ]
  },
  {
   "cell_type": "code",
   "execution_count": 815,
   "metadata": {},
   "outputs": [
    {
     "name": "stdout",
     "output_type": "stream",
     "text": [
      "BWEIGHT    1.070838\n",
      "dtype: float64\n"
     ]
    }
   ],
   "source": [
    "np.random.seed(8) \n",
    "theta = np.random.rand(7, 1) \n",
    "m =  BTrain.size\n",
    "def linear_reg(x, y, theta):\n",
    "    prev_costs = []\n",
    "    prev_thetas = [theta]\n",
    "    for i in range(1000):\n",
    "        prediction = np.dot(x, theta)\n",
    "        error = prediction - y\n",
    "        cost = 1/(2*m) * np.dot(error.T, error)\n",
    "        prev_costs.append(cost)\n",
    "        theta = theta - (0.01 * (1/m) * np.dot(x.T, error))\n",
    "        prev_thetas.append(theta)\n",
    "    return prev_thetas, past_costs\n",
    "prev_thetas, prev_costs = linear_reg(ATrain_X, BTrain, theta)\n",
    "theta = prev_thetas[-1]\n",
    "Bpredict = np.dot(ATest_X, theta)\n",
    "Weight3 = error(BTest, Bpredict)\n",
    "print(Weight3)"
   ]
  },
  {
   "cell_type": "code",
   "execution_count": 816,
   "metadata": {},
   "outputs": [
    {
     "name": "stdout",
     "output_type": "stream",
     "text": [
      "BWEIGHT    1.071185\n",
      "dtype: float64\n"
     ]
    }
   ],
   "source": [
    "np.random.seed(18) \n",
    "theta = np.random.rand(7, 1) \n",
    "m =  BTrain.size\n",
    "def linear_reg(x, y, theta):\n",
    "    prev_costs = []\n",
    "    prev_thetas = [theta]\n",
    "    for i in range(1000):\n",
    "        prediction = np.dot(x, theta)\n",
    "        error = prediction - y\n",
    "        cost = 1/(2*m) * np.dot(error.T, error)\n",
    "        prev_costs.append(cost)\n",
    "        theta = theta - (0.01 * (1/m) * np.dot(x.T, error))\n",
    "        prev_thetas.append(theta)\n",
    "    return prev_thetas, past_costs\n",
    "prev_thetas, prev_costs = linear_reg(ATrain_X, BTrain, theta)\n",
    "theta = prev_thetas[-1]\n",
    "Bpredict = np.dot(ATest_X, theta)\n",
    "Weight4 = error(BTest, Bpredict)\n",
    "print(Weight4)"
   ]
  },
  {
   "cell_type": "code",
   "execution_count": 817,
   "metadata": {},
   "outputs": [
    {
     "name": "stdout",
     "output_type": "stream",
     "text": [
      "BWEIGHT    1.070965\n",
      "dtype: float64\n"
     ]
    }
   ],
   "source": [
    "np.random.seed(16) \n",
    "theta = np.random.rand(7, 1) \n",
    "m =  BTrain.size\n",
    "def linear_reg(x, y, theta):\n",
    "    prev_costs = []\n",
    "    prev_thetas = [theta]\n",
    "    for i in range(1000):\n",
    "        prediction = np.dot(x, theta)\n",
    "        error = prediction - y\n",
    "        cost = 1/(2*m) * np.dot(error.T, error)\n",
    "        prev_costs.append(cost)\n",
    "        theta = theta - (0.01 * (1/m) * np.dot(x.T, error))\n",
    "        prev_thetas.append(theta)\n",
    "    return prev_thetas, past_costs\n",
    "prev_thetas, prev_costs = linear_reg(ATrain_X, BTrain, theta)\n",
    "theta = prev_thetas[-1]\n",
    "Bpredict = np.dot(ATest_X, theta)\n",
    "Weight5 = error(BTest, Bpredict)\n",
    "print(Weight5)"
   ]
  },
  {
   "cell_type": "code",
   "execution_count": 818,
   "metadata": {},
   "outputs": [
    {
     "name": "stdout",
     "output_type": "stream",
     "text": [
      "AverageRMSE : BWEIGHT    1.070937\n",
      "dtype: float64\n",
      "StdDev : 2.645803115690209e-05\n",
      "RMSE : BWEIGHT    1.070911\n",
      "dtype: float64\n"
     ]
    }
   ],
   "source": [
    "AverageRMSE = (Weight1 + Weight2  + Weight3 + Weight4 + Weight5 )/ 5\n",
    "StdDev = np.std([Weight1, Weight2 , Weight3 , Weight4 , Weight5])/5\n",
    "RMSE = AverageRMSE +- StdDev\n",
    "print('AverageRMSE :',AverageRMSE)\n",
    "print('StdDev :',StdDev)\n",
    "print('RMSE :',RMSE)"
   ]
  }
 ],
 "metadata": {
  "kernelspec": {
   "display_name": "Python 3",
   "language": "python",
   "name": "python3"
  },
  "language_info": {
   "codemirror_mode": {
    "name": "ipython",
    "version": 3
   },
   "file_extension": ".py",
   "mimetype": "text/x-python",
   "name": "python",
   "nbconvert_exporter": "python",
   "pygments_lexer": "ipython3",
   "version": "3.7.4"
  }
 },
 "nbformat": 4,
 "nbformat_minor": 2
}
